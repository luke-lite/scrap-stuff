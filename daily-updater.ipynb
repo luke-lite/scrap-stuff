{
 "cells": [
  {
   "cell_type": "code",
   "execution_count": 1,
   "id": "6fa47c68-f2f0-4779-9cd3-4f32937e50be",
   "metadata": {},
   "outputs": [],
   "source": [
    "%run funcs.py"
   ]
  },
  {
   "cell_type": "code",
   "execution_count": 2,
   "id": "7758ccd7-c9c0-4e99-ab12-aad988eb1ca5",
   "metadata": {},
   "outputs": [
    {
     "name": "stdout",
     "output_type": "stream",
     "text": [
      "Requirement already satisfied: pandas in c:\\users\\diper\\appdata\\local\\anaconda3\\envs\\quarterly-scraper-env\\lib\\site-packages (2.1.3)\n",
      "Requirement already satisfied: numpy<2,>=1.26.0 in c:\\users\\diper\\appdata\\local\\anaconda3\\envs\\quarterly-scraper-env\\lib\\site-packages (from pandas) (1.26.2)\n",
      "Requirement already satisfied: python-dateutil>=2.8.2 in c:\\users\\diper\\appdata\\local\\anaconda3\\envs\\quarterly-scraper-env\\lib\\site-packages (from pandas) (2.8.2)\n",
      "Requirement already satisfied: pytz>=2020.1 in c:\\users\\diper\\appdata\\local\\anaconda3\\envs\\quarterly-scraper-env\\lib\\site-packages (from pandas) (2023.3.post1)\n",
      "Requirement already satisfied: tzdata>=2022.1 in c:\\users\\diper\\appdata\\local\\anaconda3\\envs\\quarterly-scraper-env\\lib\\site-packages (from pandas) (2023.3)\n",
      "Requirement already satisfied: six>=1.5 in c:\\users\\diper\\appdata\\local\\anaconda3\\envs\\quarterly-scraper-env\\lib\\site-packages (from python-dateutil>=2.8.2->pandas) (1.16.0)\n"
     ]
    }
   ],
   "source": [
    "!pip install pandas"
   ]
  },
  {
   "cell_type": "code",
   "execution_count": null,
   "id": "76ce271b-dcb7-4c10-9a6a-d7906284893a",
   "metadata": {},
   "outputs": [],
   "source": [
    "# !pip install pandas\n",
    "# !pip install selenium\n",
    "# !pip install beautifulsoup4\n",
    "# !pip install numpy\n",
    "\n",
    "# from selenium import webdriver\n",
    "# from webdriver_manager.chrome import ChromeDriverManager\n",
    "# from selenium.webdriver.chrome.options import Options\n",
    "# from selenium.webdriver.chrome.service import Service\n",
    "# from selenium.webdriver.support.ui import Select\n",
    "# from selenium.webdriver.common.by import By\n",
    "# from bs4 import BeautifulSoup\n",
    "# import pandas as pd\n",
    "# import numpy as np\n",
    "# import string\n",
    "# import time\n",
    "# import sqlite3\n",
    "# import warnings\n",
    "\n",
    "# warnings.filterwarnings('ignore')\n",
    "# pd.set_option('display.max_columns', None)\n",
    "\n",
    "# options = Options()\n",
    "# options.page_load_strategy='eager'\n",
    "# svc=Service(ChromeDriverManager().install())"
   ]
  },
  {
   "cell_type": "code",
   "execution_count": null,
   "id": "26df0141-49d5-4655-884a-2a8ea476b7ec",
   "metadata": {},
   "outputs": [],
   "source": [
    "game_boxscore_url = 'https://www.basketball-reference.com/boxscores/202312010ORL.html'\n",
    "# 'regular' or 'playoff'\n",
    "game_type = 'regular'\n",
    "\n",
    "conn = sqlite3.connect('data/temp/daily-db-test.sqlite')"
   ]
  }
 ],
 "metadata": {
  "kernelspec": {
   "display_name": "quarterly-scraper-env",
   "language": "python",
   "name": "quarterly-scraper-env"
  },
  "language_info": {
   "codemirror_mode": {
    "name": "ipython",
    "version": 3
   },
   "file_extension": ".py",
   "mimetype": "text/x-python",
   "name": "python",
   "nbconvert_exporter": "python",
   "pygments_lexer": "ipython3",
   "version": "3.12.0"
  }
 },
 "nbformat": 4,
 "nbformat_minor": 5
}
