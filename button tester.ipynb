{
 "cells": [
  {
   "cell_type": "code",
   "execution_count": 1,
   "id": "310a5a9f",
   "metadata": {},
   "outputs": [],
   "source": [
    "# import numpy as np\n",
    "# import pandas as pd\n",
    "# import sqlite3\n",
    "\n",
    "# from selenium import webdriver\n",
    "# from webdriver_manager.chrome import ChromeDriverManager\n",
    "# from selenium.webdriver.support.ui import Select\n",
    "# from selenium.webdriver.common.by import By\n",
    "# from bs4 import BeautifulSoup\n",
    "\n",
    "# import string\n",
    "# import time\n",
    "\n",
    "# import warnings\n",
    "# warnings.filterwarnings(\"ignore\")\n",
    "\n",
    "# pd.set_option('display.max_columns', None)\n",
    "\n",
    "%run funcs.py"
   ]
  },
  {
   "cell_type": "code",
   "execution_count": null,
   "id": "ed91ae3e",
   "metadata": {},
   "outputs": [],
   "source": [
    "conn = sqlite3.connect('data/temp/commit_test-temp-2.sqlite')"
   ]
  },
  {
   "cell_type": "code",
   "execution_count": null,
   "id": "f43d702f",
   "metadata": {},
   "outputs": [],
   "source": [
    "query = 'SELECT * from gaame_info'\n",
    "game_info = pd.read_sql(query, con=conn)\n",
    "# account for team name change following the 2013-2014 season\n",
    "game_info['away_team'].replace('CHA', 'CHO', inplace=True)\n",
    "game_info['home_team'].replace('CHA', 'CHO', inplace=True)\n",
    "game_info"
   ]
  },
  {
   "cell_type": "code",
   "execution_count": null,
   "id": "0b5b5b18",
   "metadata": {},
   "outputs": [],
   "source": [
    "driver = webdriver.Chrome(service=svc,options=options)"
   ]
  },
  {
   "cell_type": "code",
   "execution_count": 2,
   "id": "05f23694-9390-4f02-b2e5-07af316629ae",
   "metadata": {},
   "outputs": [],
   "source": [
    "driver = webdriver.Chrome()"
   ]
  },
  {
   "cell_type": "code",
   "execution_count": 3,
   "id": "446cb37b",
   "metadata": {},
   "outputs": [],
   "source": [
    "driver.get('https://www.basketball-reference.com/boxscores/201704220MEM.html')"
   ]
  },
  {
   "cell_type": "code",
   "execution_count": null,
   "id": "ed92996c",
   "metadata": {},
   "outputs": [],
   "source": [
    "button_banner = driver.find_element(By.CLASS_NAME, 'filter.switcher')"
   ]
  },
  {
   "cell_type": "code",
   "execution_count": null,
   "id": "ac08a6eb",
   "metadata": {},
   "outputs": [],
   "source": [
    "buttons = button_banner.find_elements(By.CLASS_NAME, 'sr_preset')"
   ]
  },
  {
   "cell_type": "code",
   "execution_count": null,
   "id": "ccfd9266",
   "metadata": {},
   "outputs": [],
   "source": [
    "buttons[1].click()"
   ]
  },
  {
   "cell_type": "code",
   "execution_count": 9,
   "id": "ae46b0f0",
   "metadata": {},
   "outputs": [],
   "source": [
    "driver.quit()"
   ]
  },
  {
   "cell_type": "code",
   "execution_count": null,
   "id": "d256bc2d",
   "metadata": {},
   "outputs": [],
   "source": [
    "tl = ['g', 'q1', 'q2', 'h1', 'q3', 'q4', 'h2']"
   ]
  },
  {
   "cell_type": "code",
   "execution_count": null,
   "id": "9f65eb4c",
   "metadata": {},
   "outputs": [],
   "source": [
    "del tl[6]\n",
    "del tl[3]\n",
    "del tl[0]\n"
   ]
  },
  {
   "cell_type": "code",
   "execution_count": null,
   "id": "9378be65",
   "metadata": {},
   "outputs": [],
   "source": [
    "button_codes = ['q1', 'q2', 'q3', 'q4', 'ot1', 'ot2', 'ot3', 'ot4', 'ot5', 'ot6']"
   ]
  },
  {
   "cell_type": "code",
   "execution_count": null,
   "id": "32eb8ca0",
   "metadata": {},
   "outputs": [],
   "source": [
    "del buttons[6]\n",
    "del buttons[3]\n",
    "del buttons[0]"
   ]
  },
  {
   "cell_type": "code",
   "execution_count": null,
   "id": "1801575e",
   "metadata": {
    "scrolled": true
   },
   "outputs": [],
   "source": [
    "buttons"
   ]
  },
  {
   "cell_type": "code",
   "execution_count": null,
   "id": "7755e61b",
   "metadata": {},
   "outputs": [],
   "source": [
    "game_length = len(buttons)\n",
    "game_length"
   ]
  },
  {
   "cell_type": "code",
   "execution_count": null,
   "id": "b3c80fb9",
   "metadata": {},
   "outputs": [],
   "source": [
    "periods = button_codes[:game_length]"
   ]
  },
  {
   "cell_type": "code",
   "execution_count": null,
   "id": "2f01357b",
   "metadata": {},
   "outputs": [],
   "source": [
    "team_ids = ['SAS', 'MEM']"
   ]
  },
  {
   "cell_type": "code",
   "execution_count": null,
   "id": "7ffc1fe0",
   "metadata": {},
   "outputs": [],
   "source": [
    "\n",
    "period_tables = []\n",
    "id_strings = []\n",
    "for team_id in team_ids:\n",
    "    for period in periods:\n",
    "        id_string = f'box-{team_id}-{period}-basic'\n",
    "        id_strings.append(id_string)\n",
    "        period_table = parser.find('table', attrs = {'id': id_string})\n",
    "        period_tables.append(period_table)"
   ]
  },
  {
   "cell_type": "code",
   "execution_count": null,
   "id": "a8a32862",
   "metadata": {},
   "outputs": [],
   "source": [
    "period_tables[0]"
   ]
  },
  {
   "cell_type": "code",
   "execution_count": null,
   "id": "52b793cf",
   "metadata": {},
   "outputs": [],
   "source": [
    "bb = parser.find('table', attrs = {'id': id_strings[0]})\n",
    "bb"
   ]
  },
  {
   "cell_type": "code",
   "execution_count": null,
   "id": "74a1d77c",
   "metadata": {},
   "outputs": [],
   "source": [
    "src = driver.page_source\n",
    "parser = BeautifulSoup(src, 'lxml')"
   ]
  },
  {
   "cell_type": "code",
   "execution_count": null,
   "id": "bbd894d2",
   "metadata": {},
   "outputs": [],
   "source": [
    "stat_tables = parser.findAll('table', attrs = {'class': 'sortable stats_table now_sortable'})"
   ]
  },
  {
   "cell_type": "code",
   "execution_count": null,
   "id": "f941593f",
   "metadata": {},
   "outputs": [],
   "source": [
    "len(stat_tables)"
   ]
  },
  {
   "cell_type": "code",
   "execution_count": null,
   "id": "4e9fddc6",
   "metadata": {},
   "outputs": [],
   "source": []
  },
  {
   "cell_type": "code",
   "execution_count": null,
   "id": "84dbee14",
   "metadata": {},
   "outputs": [],
   "source": []
  }
 ],
 "metadata": {
  "kernelspec": {
   "display_name": "quarterly-scraper-env",
   "language": "python",
   "name": "quarterly-scraper-env"
  },
  "language_info": {
   "codemirror_mode": {
    "name": "ipython",
    "version": 3
   },
   "file_extension": ".py",
   "mimetype": "text/x-python",
   "name": "python",
   "nbconvert_exporter": "python",
   "pygments_lexer": "ipython3",
   "version": "3.12.0"
  }
 },
 "nbformat": 4,
 "nbformat_minor": 5
}
